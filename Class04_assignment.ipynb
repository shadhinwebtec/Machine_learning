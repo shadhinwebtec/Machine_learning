{
  "nbformat": 4,
  "nbformat_minor": 5,
  "metadata": {
    "kernelspec": {
      "display_name": "Python 3",
      "language": "python",
      "name": "python3"
    },
    "language_info": {
      "codemirror_mode": {
        "name": "ipython",
        "version": 3
      },
      "file_extension": ".py",
      "mimetype": "text/x-python",
      "name": "python",
      "nbconvert_exporter": "python",
      "pygments_lexer": "ipython3",
      "version": "3.7.10"
    },
    "colab": {
      "name": "Class04_assignment.ipynb",
      "provenance": [],
      "include_colab_link": true
    }
  },
  "cells": [
    {
      "cell_type": "markdown",
      "metadata": {
        "id": "view-in-github",
        "colab_type": "text"
      },
      "source": [
        "<a href=\"https://colab.research.google.com/github/shadhinwebtec/Machine_learning/blob/main/Class04_assignment.ipynb\" target=\"_parent\"><img src=\"https://colab.research.google.com/assets/colab-badge.svg\" alt=\"Open In Colab\"/></a>"
      ]
    },
    {
      "cell_type": "code",
      "metadata": {
        "id": "oCLBI-VQEYo8"
      },
      "source": [
        "from google.colab import drive "
      ],
      "id": "oCLBI-VQEYo8",
      "execution_count": 2,
      "outputs": []
    },
    {
      "cell_type": "code",
      "metadata": {
        "colab": {
          "base_uri": "https://localhost:8080/"
        },
        "id": "1U4b_SW5ErXi",
        "outputId": "ad5d73e7-5030-423f-c059-d7db7f90d867"
      },
      "source": [
        "drive.mount('/content/drive')"
      ],
      "id": "1U4b_SW5ErXi",
      "execution_count": 4,
      "outputs": [
        {
          "output_type": "stream",
          "name": "stdout",
          "text": [
            "Mounted at /content/drive\n"
          ]
        }
      ]
    },
    {
      "cell_type": "code",
      "metadata": {
        "id": "generous-bibliography"
      },
      "source": [
        "import pandas as pd"
      ],
      "id": "generous-bibliography",
      "execution_count": 6,
      "outputs": []
    },
    {
      "cell_type": "code",
      "metadata": {
        "colab": {
          "base_uri": "https://localhost:8080/",
          "height": 669
        },
        "id": "political-sheet",
        "outputId": "87cc94e7-fbee-4d47-d516-274d4df873c1"
      },
      "source": [
        "df=pd.read_csv('/content/drive/MyDrive/Data/Body.csv')\n",
        "df.head(20)"
      ],
      "id": "political-sheet",
      "execution_count": 7,
      "outputs": [
        {
          "output_type": "execute_result",
          "data": {
            "text/html": [
              "<div>\n",
              "<style scoped>\n",
              "    .dataframe tbody tr th:only-of-type {\n",
              "        vertical-align: middle;\n",
              "    }\n",
              "\n",
              "    .dataframe tbody tr th {\n",
              "        vertical-align: top;\n",
              "    }\n",
              "\n",
              "    .dataframe thead th {\n",
              "        text-align: right;\n",
              "    }\n",
              "</style>\n",
              "<table border=\"1\" class=\"dataframe\">\n",
              "  <thead>\n",
              "    <tr style=\"text-align: right;\">\n",
              "      <th></th>\n",
              "      <th>Height</th>\n",
              "      <th>Weight</th>\n",
              "    </tr>\n",
              "  </thead>\n",
              "  <tbody>\n",
              "    <tr>\n",
              "      <th>0</th>\n",
              "      <td>1.47</td>\n",
              "      <td>52.21</td>\n",
              "    </tr>\n",
              "    <tr>\n",
              "      <th>1</th>\n",
              "      <td>1.50</td>\n",
              "      <td>53.12</td>\n",
              "    </tr>\n",
              "    <tr>\n",
              "      <th>2</th>\n",
              "      <td>1.52</td>\n",
              "      <td>54.50</td>\n",
              "    </tr>\n",
              "    <tr>\n",
              "      <th>3</th>\n",
              "      <td>1.55</td>\n",
              "      <td>55.84</td>\n",
              "    </tr>\n",
              "    <tr>\n",
              "      <th>4</th>\n",
              "      <td>1.57</td>\n",
              "      <td>58.00</td>\n",
              "    </tr>\n",
              "    <tr>\n",
              "      <th>5</th>\n",
              "      <td>1.60</td>\n",
              "      <td>58.57</td>\n",
              "    </tr>\n",
              "    <tr>\n",
              "      <th>6</th>\n",
              "      <td>1.63</td>\n",
              "      <td>59.00</td>\n",
              "    </tr>\n",
              "    <tr>\n",
              "      <th>7</th>\n",
              "      <td>1.65</td>\n",
              "      <td>61.29</td>\n",
              "    </tr>\n",
              "    <tr>\n",
              "      <th>8</th>\n",
              "      <td>1.68</td>\n",
              "      <td>63.11</td>\n",
              "    </tr>\n",
              "    <tr>\n",
              "      <th>9</th>\n",
              "      <td>1.70</td>\n",
              "      <td>64.50</td>\n",
              "    </tr>\n",
              "    <tr>\n",
              "      <th>10</th>\n",
              "      <td>1.73</td>\n",
              "      <td>66.28</td>\n",
              "    </tr>\n",
              "    <tr>\n",
              "      <th>11</th>\n",
              "      <td>1.75</td>\n",
              "      <td>68.00</td>\n",
              "    </tr>\n",
              "    <tr>\n",
              "      <th>12</th>\n",
              "      <td>1.78</td>\n",
              "      <td>69.92</td>\n",
              "    </tr>\n",
              "    <tr>\n",
              "      <th>13</th>\n",
              "      <td>1.80</td>\n",
              "      <td>72.19</td>\n",
              "    </tr>\n",
              "    <tr>\n",
              "      <th>14</th>\n",
              "      <td>1.83</td>\n",
              "      <td>74.46</td>\n",
              "    </tr>\n",
              "    <tr>\n",
              "      <th>15</th>\n",
              "      <td>1.68</td>\n",
              "      <td>60.45</td>\n",
              "    </tr>\n",
              "    <tr>\n",
              "      <th>16</th>\n",
              "      <td>1.80</td>\n",
              "      <td>75.00</td>\n",
              "    </tr>\n",
              "    <tr>\n",
              "      <th>17</th>\n",
              "      <td>1.48</td>\n",
              "      <td>54.00</td>\n",
              "    </tr>\n",
              "    <tr>\n",
              "      <th>18</th>\n",
              "      <td>1.51</td>\n",
              "      <td>56.43</td>\n",
              "    </tr>\n",
              "    <tr>\n",
              "      <th>19</th>\n",
              "      <td>1.52</td>\n",
              "      <td>53.50</td>\n",
              "    </tr>\n",
              "  </tbody>\n",
              "</table>\n",
              "</div>"
            ],
            "text/plain": [
              "    Height  Weight\n",
              "0     1.47   52.21\n",
              "1     1.50   53.12\n",
              "2     1.52   54.50\n",
              "3     1.55   55.84\n",
              "4     1.57   58.00\n",
              "5     1.60   58.57\n",
              "6     1.63   59.00\n",
              "7     1.65   61.29\n",
              "8     1.68   63.11\n",
              "9     1.70   64.50\n",
              "10    1.73   66.28\n",
              "11    1.75   68.00\n",
              "12    1.78   69.92\n",
              "13    1.80   72.19\n",
              "14    1.83   74.46\n",
              "15    1.68   60.45\n",
              "16    1.80   75.00\n",
              "17    1.48   54.00\n",
              "18    1.51   56.43\n",
              "19    1.52   53.50"
            ]
          },
          "metadata": {},
          "execution_count": 7
        }
      ]
    },
    {
      "cell_type": "code",
      "metadata": {
        "colab": {
          "base_uri": "https://localhost:8080/",
          "height": 204
        },
        "id": "proprietary-oliver",
        "outputId": "cab2513e-277d-4be1-84a3-a2f1e10bbf79"
      },
      "source": [
        "df.tail()"
      ],
      "id": "proprietary-oliver",
      "execution_count": 8,
      "outputs": [
        {
          "output_type": "execute_result",
          "data": {
            "text/html": [
              "<div>\n",
              "<style scoped>\n",
              "    .dataframe tbody tr th:only-of-type {\n",
              "        vertical-align: middle;\n",
              "    }\n",
              "\n",
              "    .dataframe tbody tr th {\n",
              "        vertical-align: top;\n",
              "    }\n",
              "\n",
              "    .dataframe thead th {\n",
              "        text-align: right;\n",
              "    }\n",
              "</style>\n",
              "<table border=\"1\" class=\"dataframe\">\n",
              "  <thead>\n",
              "    <tr style=\"text-align: right;\">\n",
              "      <th></th>\n",
              "      <th>Height</th>\n",
              "      <th>Weight</th>\n",
              "    </tr>\n",
              "  </thead>\n",
              "  <tbody>\n",
              "    <tr>\n",
              "      <th>26</th>\n",
              "      <td>1.81</td>\n",
              "      <td>62.00</td>\n",
              "    </tr>\n",
              "    <tr>\n",
              "      <th>27</th>\n",
              "      <td>1.70</td>\n",
              "      <td>65.90</td>\n",
              "    </tr>\n",
              "    <tr>\n",
              "      <th>28</th>\n",
              "      <td>1.79</td>\n",
              "      <td>80.65</td>\n",
              "    </tr>\n",
              "    <tr>\n",
              "      <th>29</th>\n",
              "      <td>1.80</td>\n",
              "      <td>71.00</td>\n",
              "    </tr>\n",
              "    <tr>\n",
              "      <th>30</th>\n",
              "      <td>1.81</td>\n",
              "      <td>74.50</td>\n",
              "    </tr>\n",
              "  </tbody>\n",
              "</table>\n",
              "</div>"
            ],
            "text/plain": [
              "    Height  Weight\n",
              "26    1.81   62.00\n",
              "27    1.70   65.90\n",
              "28    1.79   80.65\n",
              "29    1.80   71.00\n",
              "30    1.81   74.50"
            ]
          },
          "metadata": {},
          "execution_count": 8
        }
      ]
    },
    {
      "cell_type": "code",
      "metadata": {
        "id": "constitutional-donor"
      },
      "source": [
        "import matplotlib.pyplot as plt\n",
        "import numpy as np"
      ],
      "id": "constitutional-donor",
      "execution_count": 9,
      "outputs": []
    },
    {
      "cell_type": "code",
      "metadata": {
        "colab": {
          "base_uri": "https://localhost:8080/"
        },
        "id": "spread-dating",
        "outputId": "657b59e2-9380-4840-c540-a6b7dc774cd6"
      },
      "source": [
        "df.isnull().sum()"
      ],
      "id": "spread-dating",
      "execution_count": 10,
      "outputs": [
        {
          "output_type": "execute_result",
          "data": {
            "text/plain": [
              "Height    0\n",
              "Weight    0\n",
              "dtype: int64"
            ]
          },
          "metadata": {},
          "execution_count": 10
        }
      ]
    },
    {
      "cell_type": "code",
      "metadata": {
        "colab": {
          "base_uri": "https://localhost:8080/"
        },
        "id": "pleasant-service",
        "outputId": "a1a24923-90dd-49e3-b8f9-1fde3d0f0f70"
      },
      "source": [
        "df.Height"
      ],
      "id": "pleasant-service",
      "execution_count": 11,
      "outputs": [
        {
          "output_type": "execute_result",
          "data": {
            "text/plain": [
              "0     1.47\n",
              "1     1.50\n",
              "2     1.52\n",
              "3     1.55\n",
              "4     1.57\n",
              "5     1.60\n",
              "6     1.63\n",
              "7     1.65\n",
              "8     1.68\n",
              "9     1.70\n",
              "10    1.73\n",
              "11    1.75\n",
              "12    1.78\n",
              "13    1.80\n",
              "14    1.83\n",
              "15    1.68\n",
              "16    1.80\n",
              "17    1.48\n",
              "18    1.51\n",
              "19    1.52\n",
              "20    1.50\n",
              "21    1.60\n",
              "22    1.66\n",
              "23    1.60\n",
              "24    1.69\n",
              "25    1.58\n",
              "26    1.81\n",
              "27    1.70\n",
              "28    1.79\n",
              "29    1.80\n",
              "30    1.81\n",
              "Name: Height, dtype: float64"
            ]
          },
          "metadata": {},
          "execution_count": 11
        }
      ]
    },
    {
      "cell_type": "code",
      "metadata": {
        "colab": {
          "base_uri": "https://localhost:8080/"
        },
        "id": "medium-overhead",
        "outputId": "72c395d1-61c2-49b2-caf3-665dae486e0c"
      },
      "source": [
        "df.Weight"
      ],
      "id": "medium-overhead",
      "execution_count": 12,
      "outputs": [
        {
          "output_type": "execute_result",
          "data": {
            "text/plain": [
              "0     52.21\n",
              "1     53.12\n",
              "2     54.50\n",
              "3     55.84\n",
              "4     58.00\n",
              "5     58.57\n",
              "6     59.00\n",
              "7     61.29\n",
              "8     63.11\n",
              "9     64.50\n",
              "10    66.28\n",
              "11    68.00\n",
              "12    69.92\n",
              "13    72.19\n",
              "14    74.46\n",
              "15    60.45\n",
              "16    75.00\n",
              "17    54.00\n",
              "18    56.43\n",
              "19    53.50\n",
              "20    57.30\n",
              "21    60.00\n",
              "22    60.00\n",
              "23    65.08\n",
              "24    68.90\n",
              "25    71.20\n",
              "26    62.00\n",
              "27    65.90\n",
              "28    80.65\n",
              "29    71.00\n",
              "30    74.50\n",
              "Name: Weight, dtype: float64"
            ]
          },
          "metadata": {},
          "execution_count": 12
        }
      ]
    },
    {
      "cell_type": "code",
      "metadata": {
        "colab": {
          "base_uri": "https://localhost:8080/",
          "height": 296
        },
        "id": "constitutional-excitement",
        "outputId": "04033722-5c46-424a-f43c-5eb7cc7ac6f0"
      },
      "source": [
        "plt.scatter(df.Height,df.Weight,color=\"black\")\n",
        "plt.xlabel(\"Height\")\n",
        "plt.ylabel(\"Weight\")"
      ],
      "id": "constitutional-excitement",
      "execution_count": 13,
      "outputs": [
        {
          "output_type": "execute_result",
          "data": {
            "text/plain": [
              "Text(0, 0.5, 'Weight')"
            ]
          },
          "metadata": {},
          "execution_count": 13
        },
        {
          "output_type": "display_data",
          "data": {
            "image/png": "[encoded data removed]",
            "text/plain": [
              "<Figure size 432x288 with 1 Axes>"
            ]
          },
          "metadata": {
            "needs_background": "light"
          }
        }
      ]
    },
    {
      "cell_type": "code",
      "metadata": {
        "id": "worse-attraction"
      },
      "source": [
        "x=df[['Height']]\n",
        "y=df[['Weight']]"
      ],
      "id": "worse-attraction",
      "execution_count": 35,
      "outputs": []
    },
    {
      "cell_type": "code",
      "metadata": {
        "id": "difficult-western"
      },
      "source": [
        "from sklearn.model_selection import train_test_split"
      ],
      "id": "difficult-western",
      "execution_count": 37,
      "outputs": []
    },
    {
      "cell_type": "code",
      "metadata": {
        "colab": {
          "base_uri": "https://localhost:8080/",
          "height": 129
        },
        "id": "k1rR3cvQXVHM",
        "outputId": "eb6a67d8-ef59-4e58-9072-d4d1adc29b8a"
      },
      "source": [
        "total data =100%\n",
        "trai=70%\n",
        "test=30%"
      ],
      "id": "k1rR3cvQXVHM",
      "execution_count": 20,
      "outputs": [
        {
          "output_type": "error",
          "ename": "SyntaxError",
          "evalue": "ignored",
          "traceback": [
            "\u001b[0;36m  File \u001b[0;32m\"<ipython-input-20-436305c0dcdf>\"\u001b[0;36m, line \u001b[0;32m1\u001b[0m\n\u001b[0;31m    total data =100%\u001b[0m\n\u001b[0m             ^\u001b[0m\n\u001b[0;31mSyntaxError\u001b[0m\u001b[0;31m:\u001b[0m invalid syntax\n"
          ]
        }
      ]
    },
    {
      "cell_type": "code",
      "metadata": {
        "id": "chief-advocate"
      },
      "source": [
        "xtrain,xtest,ytrain,ytest=train_test_split(x,y,train_size=0.70)"
      ],
      "id": "chief-advocate",
      "execution_count": 38,
      "outputs": []
    },
    {
      "cell_type": "code",
      "metadata": {
        "colab": {
          "base_uri": "https://localhost:8080/",
          "height": 204
        },
        "id": "UV27dDGVVi3z",
        "outputId": "fadb5db9-7649-4620-8407-42796c3008fe"
      },
      "source": [
        "xtrain.head()\n"
      ],
      "id": "UV27dDGVVi3z",
      "execution_count": 39,
      "outputs": [
        {
          "output_type": "execute_result",
          "data": {
            "text/html": [
              "<div>\n",
              "<style scoped>\n",
              "    .dataframe tbody tr th:only-of-type {\n",
              "        vertical-align: middle;\n",
              "    }\n",
              "\n",
              "    .dataframe tbody tr th {\n",
              "        vertical-align: top;\n",
              "    }\n",
              "\n",
              "    .dataframe thead th {\n",
              "        text-align: right;\n",
              "    }\n",
              "</style>\n",
              "<table border=\"1\" class=\"dataframe\">\n",
              "  <thead>\n",
              "    <tr style=\"text-align: right;\">\n",
              "      <th></th>\n",
              "      <th>Height</th>\n",
              "    </tr>\n",
              "  </thead>\n",
              "  <tbody>\n",
              "    <tr>\n",
              "      <th>6</th>\n",
              "      <td>1.63</td>\n",
              "    </tr>\n",
              "    <tr>\n",
              "      <th>1</th>\n",
              "      <td>1.50</td>\n",
              "    </tr>\n",
              "    <tr>\n",
              "      <th>3</th>\n",
              "      <td>1.55</td>\n",
              "    </tr>\n",
              "    <tr>\n",
              "      <th>8</th>\n",
              "      <td>1.68</td>\n",
              "    </tr>\n",
              "    <tr>\n",
              "      <th>15</th>\n",
              "      <td>1.68</td>\n",
              "    </tr>\n",
              "  </tbody>\n",
              "</table>\n",
              "</div>"
            ],
            "text/plain": [
              "    Height\n",
              "6     1.63\n",
              "1     1.50\n",
              "3     1.55\n",
              "8     1.68\n",
              "15    1.68"
            ]
          },
          "metadata": {},
          "execution_count": 39
        }
      ]
    },
    {
      "cell_type": "code",
      "metadata": {
        "colab": {
          "base_uri": "https://localhost:8080/",
          "height": 204
        },
        "id": "AUtfj243Vsan",
        "outputId": "adf85f3c-6def-4524-e185-fdd54ba45862"
      },
      "source": [
        "xtest.head()"
      ],
      "id": "AUtfj243Vsan",
      "execution_count": 40,
      "outputs": [
        {
          "output_type": "execute_result",
          "data": {
            "text/html": [
              "<div>\n",
              "<style scoped>\n",
              "    .dataframe tbody tr th:only-of-type {\n",
              "        vertical-align: middle;\n",
              "    }\n",
              "\n",
              "    .dataframe tbody tr th {\n",
              "        vertical-align: top;\n",
              "    }\n",
              "\n",
              "    .dataframe thead th {\n",
              "        text-align: right;\n",
              "    }\n",
              "</style>\n",
              "<table border=\"1\" class=\"dataframe\">\n",
              "  <thead>\n",
              "    <tr style=\"text-align: right;\">\n",
              "      <th></th>\n",
              "      <th>Height</th>\n",
              "    </tr>\n",
              "  </thead>\n",
              "  <tbody>\n",
              "    <tr>\n",
              "      <th>5</th>\n",
              "      <td>1.60</td>\n",
              "    </tr>\n",
              "    <tr>\n",
              "      <th>24</th>\n",
              "      <td>1.69</td>\n",
              "    </tr>\n",
              "    <tr>\n",
              "      <th>20</th>\n",
              "      <td>1.50</td>\n",
              "    </tr>\n",
              "    <tr>\n",
              "      <th>17</th>\n",
              "      <td>1.48</td>\n",
              "    </tr>\n",
              "    <tr>\n",
              "      <th>10</th>\n",
              "      <td>1.73</td>\n",
              "    </tr>\n",
              "  </tbody>\n",
              "</table>\n",
              "</div>"
            ],
            "text/plain": [
              "    Height\n",
              "5     1.60\n",
              "24    1.69\n",
              "20    1.50\n",
              "17    1.48\n",
              "10    1.73"
            ]
          },
          "metadata": {},
          "execution_count": 40
        }
      ]
    },
    {
      "cell_type": "code",
      "metadata": {
        "colab": {
          "base_uri": "https://localhost:8080/"
        },
        "id": "J9mw350kVwlo",
        "outputId": "1531dc8a-c80b-4ba8-c51b-d5d1a2f08b2b"
      },
      "source": [
        "xtest.shape"
      ],
      "id": "J9mw350kVwlo",
      "execution_count": 41,
      "outputs": [
        {
          "output_type": "execute_result",
          "data": {
            "text/plain": [
              "(10, 1)"
            ]
          },
          "metadata": {},
          "execution_count": 41
        }
      ]
    },
    {
      "cell_type": "code",
      "metadata": {
        "colab": {
          "base_uri": "https://localhost:8080/"
        },
        "id": "xUDQWJcbYCsS",
        "outputId": "75a35293-a591-445c-869b-074a72687436"
      },
      "source": [
        "xtrain.shape"
      ],
      "id": "xUDQWJcbYCsS",
      "execution_count": 42,
      "outputs": [
        {
          "output_type": "execute_result",
          "data": {
            "text/plain": [
              "(21, 1)"
            ]
          },
          "metadata": {},
          "execution_count": 42
        }
      ]
    },
    {
      "cell_type": "code",
      "metadata": {
        "id": "y-GqouA-YGUK"
      },
      "source": [
        "#linear Regression\n",
        "from sklearn.linear_model import LinearRegression"
      ],
      "id": "y-GqouA-YGUK",
      "execution_count": 43,
      "outputs": []
    },
    {
      "cell_type": "code",
      "metadata": {
        "id": "7DLdKkNOaZe1"
      },
      "source": [
        "reg=LinearRegression()"
      ],
      "id": "7DLdKkNOaZe1",
      "execution_count": 44,
      "outputs": []
    },
    {
      "cell_type": "code",
      "metadata": {
        "colab": {
          "base_uri": "https://localhost:8080/"
        },
        "id": "jAVrCFwjajmi",
        "outputId": "ec530a28-6ae7-4375-cd24-c38a2c8b82c0"
      },
      "source": [
        "reg.fit(xtrain,ytrain)"
      ],
      "id": "jAVrCFwjajmi",
      "execution_count": 45,
      "outputs": [
        {
          "output_type": "execute_result",
          "data": {
            "text/plain": [
              "LinearRegression(copy_X=True, fit_intercept=True, n_jobs=None, normalize=False)"
            ]
          },
          "metadata": {},
          "execution_count": 45
        }
      ]
    },
    {
      "cell_type": "code",
      "metadata": {
        "colab": {
          "base_uri": "https://localhost:8080/"
        },
        "id": "AFZh_E41bD0X",
        "outputId": "65520dbc-3fd2-46b0-881a-58349fcd3e0c"
      },
      "source": [
        "reg.predict([[1.60]])"
      ],
      "id": "AFZh_E41bD0X",
      "execution_count": 46,
      "outputs": [
        {
          "output_type": "execute_result",
          "data": {
            "text/plain": [
              "array([[60.3164744]])"
            ]
          },
          "metadata": {},
          "execution_count": 46
        }
      ]
    },
    {
      "cell_type": "code",
      "metadata": {
        "colab": {
          "base_uri": "https://localhost:8080/"
        },
        "id": "art6hTPmei_-",
        "outputId": "b27e5f08-5546-4ee4-9c64-aea40d27fb76"
      },
      "source": [
        "prediction=reg.predict(xtest)\n",
        "prediction"
      ],
      "id": "art6hTPmei_-",
      "execution_count": 50,
      "outputs": [
        {
          "output_type": "execute_result",
          "data": {
            "text/plain": [
              "array([[60.3164744 ],\n",
              "       [65.41187237],\n",
              "       [54.65492111],\n",
              "       [53.52261045],\n",
              "       [67.67649369],\n",
              "       [71.639581  ],\n",
              "       [73.33804698],\n",
              "       [60.3164744 ],\n",
              "       [65.9780277 ],\n",
              "       [52.95645512]])"
            ]
          },
          "metadata": {},
          "execution_count": 50
        }
      ]
    },
    {
      "cell_type": "code",
      "metadata": {
        "colab": {
          "base_uri": "https://localhost:8080/"
        },
        "id": "IkAMFUu6c8Eq",
        "outputId": "47ffd20b-a8ac-4657-8dd5-a174cb65e31c"
      },
      "source": [
        "m=reg.coef_\n",
        "c=reg.intercept_\n",
        "x=1.60\n",
        "y=m*x+c\n",
        "y"
      ],
      "id": "IkAMFUu6c8Eq",
      "execution_count": 47,
      "outputs": [
        {
          "output_type": "execute_result",
          "data": {
            "text/plain": [
              "array([[60.3164744]])"
            ]
          },
          "metadata": {},
          "execution_count": 47
        }
      ]
    },
    {
      "cell_type": "code",
      "metadata": {
        "id": "GogizXSedeX_"
      },
      "source": [
        "from sklearn.metrics import mean_squared_error\n"
      ],
      "id": "GogizXSedeX_",
      "execution_count": 49,
      "outputs": []
    },
    {
      "cell_type": "code",
      "metadata": {
        "colab": {
          "base_uri": "https://localhost:8080/"
        },
        "id": "TwPRGooweHlh",
        "outputId": "362d5e40-7977-4517-a78e-23d13a0c6fc7"
      },
      "source": [
        "mse=mean_squared_error(ytest,prediction)\n",
        "mse"
      ],
      "id": "TwPRGooweHlh",
      "execution_count": 51,
      "outputs": [
        {
          "output_type": "execute_result",
          "data": {
            "text/plain": [
              "2.8901504549715638"
            ]
          },
          "metadata": {},
          "execution_count": 51
        }
      ]
    },
    {
      "cell_type": "code",
      "metadata": {
        "colab": {
          "base_uri": "https://localhost:8080/",
          "height": 296
        },
        "id": "TFJGUG4be3Al",
        "outputId": "c3f2724b-4242-41f0-e238-4964afe72f70"
      },
      "source": [
        "plt.plot(df.Height, reg.predict(df[['Height']]))\n",
        "plt.scatter(df.Height,df.Weight,color=\"black\")\n",
        "plt.xlabel(\"Height\")\n",
        "plt.ylabel(\"Weight\")"
      ],
      "id": "TFJGUG4be3Al",
      "execution_count": 54,
      "outputs": [
        {
          "output_type": "execute_result",
          "data": {
            "text/plain": [
              "Text(0, 0.5, 'Weight')"
            ]
          },
          "metadata": {},
          "execution_count": 54
        },
        {
          "output_type": "display_data",
          "data": {
            "image/png": "[encoded data removed]",
            "text/plain": [
              "<Figure size 432x288 with 1 Axes>"
            ]
          },
          "metadata": {
            "needs_background": "light"
          }
        }
      ]
    },
    {
      "cell_type": "code",
      "metadata": {
        "id": "qXhFWF9Dji7m"
      },
      "source": [
        ""
      ],
      "id": "qXhFWF9Dji7m",
      "execution_count": null,
      "outputs": []
    }
  ]
}